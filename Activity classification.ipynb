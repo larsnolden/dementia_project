{
 "cells": [
  {
   "cell_type": "code",
   "execution_count": 95,
   "id": "b838a25f",
   "metadata": {},
   "outputs": [],
   "source": [
    "import pandas as pd"
   ]
  },
  {
   "cell_type": "code",
   "execution_count": 132,
   "id": "70c8dcf6",
   "metadata": {
    "scrolled": true
   },
   "outputs": [],
   "source": [
    "imported_data = pd.read_excel('./Activity_Recognition_DataSet/Pocket.xlsx')"
   ]
  },
  {
   "cell_type": "code",
   "execution_count": 133,
   "id": "db9b8bfb",
   "metadata": {
    "scrolled": true
   },
   "outputs": [
    {
     "data": {
      "text/html": [
       "<div>\n",
       "<style scoped>\n",
       "    .dataframe tbody tr th:only-of-type {\n",
       "        vertical-align: middle;\n",
       "    }\n",
       "\n",
       "    .dataframe tbody tr th {\n",
       "        vertical-align: top;\n",
       "    }\n",
       "\n",
       "    .dataframe thead th {\n",
       "        text-align: right;\n",
       "    }\n",
       "</style>\n",
       "<table border=\"1\" class=\"dataframe\">\n",
       "  <thead>\n",
       "    <tr style=\"text-align: right;\">\n",
       "      <th></th>\n",
       "      <th>Time_Stamp</th>\n",
       "      <th>Ax</th>\n",
       "      <th>Ay</th>\n",
       "      <th>Az</th>\n",
       "      <th>Gx</th>\n",
       "      <th>Gy</th>\n",
       "      <th>Gz</th>\n",
       "      <th>Mx</th>\n",
       "      <th>My</th>\n",
       "      <th>Mz</th>\n",
       "      <th>Activity_Label</th>\n",
       "    </tr>\n",
       "  </thead>\n",
       "  <tbody>\n",
       "    <tr>\n",
       "      <th>0</th>\n",
       "      <td>1364400000000</td>\n",
       "      <td>0.231546</td>\n",
       "      <td>-9.329938</td>\n",
       "      <td>-3.023717</td>\n",
       "      <td>0.275195</td>\n",
       "      <td>-0.111788</td>\n",
       "      <td>0.019242</td>\n",
       "      <td>-19.680000</td>\n",
       "      <td>29.640000</td>\n",
       "      <td>-6.60</td>\n",
       "      <td>Downstairs</td>\n",
       "    </tr>\n",
       "    <tr>\n",
       "      <th>1</th>\n",
       "      <td>1364400000020</td>\n",
       "      <td>1.048767</td>\n",
       "      <td>-8.853226</td>\n",
       "      <td>-1.225831</td>\n",
       "      <td>0.801150</td>\n",
       "      <td>1.128879</td>\n",
       "      <td>0.011912</td>\n",
       "      <td>-19.619999</td>\n",
       "      <td>29.400000</td>\n",
       "      <td>-6.72</td>\n",
       "      <td>Downstairs</td>\n",
       "    </tr>\n",
       "    <tr>\n",
       "      <th>2</th>\n",
       "      <td>1364400000040</td>\n",
       "      <td>0.939804</td>\n",
       "      <td>-9.507003</td>\n",
       "      <td>-2.043052</td>\n",
       "      <td>0.807258</td>\n",
       "      <td>1.709201</td>\n",
       "      <td>-0.032376</td>\n",
       "      <td>-19.680000</td>\n",
       "      <td>29.340000</td>\n",
       "      <td>-6.96</td>\n",
       "      <td>Downstairs</td>\n",
       "    </tr>\n",
       "    <tr>\n",
       "      <th>3</th>\n",
       "      <td>1364400000060</td>\n",
       "      <td>0.640156</td>\n",
       "      <td>-9.833891</td>\n",
       "      <td>-2.152015</td>\n",
       "      <td>0.602008</td>\n",
       "      <td>2.062892</td>\n",
       "      <td>0.003665</td>\n",
       "      <td>-19.859999</td>\n",
       "      <td>29.220000</td>\n",
       "      <td>-7.14</td>\n",
       "      <td>Downstairs</td>\n",
       "    </tr>\n",
       "    <tr>\n",
       "      <th>4</th>\n",
       "      <td>1364400000080</td>\n",
       "      <td>0.027241</td>\n",
       "      <td>-9.248216</td>\n",
       "      <td>-1.321174</td>\n",
       "      <td>0.629802</td>\n",
       "      <td>2.191174</td>\n",
       "      <td>0.159741</td>\n",
       "      <td>-19.680000</td>\n",
       "      <td>29.039999</td>\n",
       "      <td>-7.98</td>\n",
       "      <td>Downstairs</td>\n",
       "    </tr>\n",
       "    <tr>\n",
       "      <th>...</th>\n",
       "      <td>...</td>\n",
       "      <td>...</td>\n",
       "      <td>...</td>\n",
       "      <td>...</td>\n",
       "      <td>...</td>\n",
       "      <td>...</td>\n",
       "      <td>...</td>\n",
       "      <td>...</td>\n",
       "      <td>...</td>\n",
       "      <td>...</td>\n",
       "      <td>...</td>\n",
       "    </tr>\n",
       "    <tr>\n",
       "      <th>161953</th>\n",
       "      <td>1364300139920</td>\n",
       "      <td>-2.601486</td>\n",
       "      <td>-4.426613</td>\n",
       "      <td>-2.369940</td>\n",
       "      <td>0.816727</td>\n",
       "      <td>-1.472491</td>\n",
       "      <td>0.100182</td>\n",
       "      <td>9.059999</td>\n",
       "      <td>35.940000</td>\n",
       "      <td>0.84</td>\n",
       "      <td>Walking</td>\n",
       "    </tr>\n",
       "    <tr>\n",
       "      <th>161954</th>\n",
       "      <td>1364300139940</td>\n",
       "      <td>-3.064578</td>\n",
       "      <td>-7.041720</td>\n",
       "      <td>-5.992953</td>\n",
       "      <td>1.326188</td>\n",
       "      <td>-1.075123</td>\n",
       "      <td>0.084299</td>\n",
       "      <td>9.059999</td>\n",
       "      <td>36.180000</td>\n",
       "      <td>1.02</td>\n",
       "      <td>Walking</td>\n",
       "    </tr>\n",
       "    <tr>\n",
       "      <th>161955</th>\n",
       "      <td>1364300139960</td>\n",
       "      <td>-4.903325</td>\n",
       "      <td>-15.363752</td>\n",
       "      <td>-14.900661</td>\n",
       "      <td>0.638049</td>\n",
       "      <td>-0.222966</td>\n",
       "      <td>0.208610</td>\n",
       "      <td>9.120000</td>\n",
       "      <td>36.180000</td>\n",
       "      <td>1.08</td>\n",
       "      <td>Walking</td>\n",
       "    </tr>\n",
       "    <tr>\n",
       "      <th>161956</th>\n",
       "      <td>1364300139980</td>\n",
       "      <td>-4.290410</td>\n",
       "      <td>-17.624730</td>\n",
       "      <td>-11.699879</td>\n",
       "      <td>-0.365603</td>\n",
       "      <td>-0.474948</td>\n",
       "      <td>0.528093</td>\n",
       "      <td>9.240000</td>\n",
       "      <td>36.360000</td>\n",
       "      <td>0.96</td>\n",
       "      <td>Walking</td>\n",
       "    </tr>\n",
       "    <tr>\n",
       "      <th>161957</th>\n",
       "      <td>1364300140000</td>\n",
       "      <td>-5.924851</td>\n",
       "      <td>-11.863323</td>\n",
       "      <td>-7.790839</td>\n",
       "      <td>-0.289245</td>\n",
       "      <td>-1.260826</td>\n",
       "      <td>0.262977</td>\n",
       "      <td>9.300000</td>\n",
       "      <td>36.480000</td>\n",
       "      <td>1.02</td>\n",
       "      <td>Walking</td>\n",
       "    </tr>\n",
       "  </tbody>\n",
       "</table>\n",
       "<p>161958 rows × 11 columns</p>\n",
       "</div>"
      ],
      "text/plain": [
       "           Time_Stamp        Ax         Ay         Az        Gx        Gy  \\\n",
       "0       1364400000000  0.231546  -9.329938  -3.023717  0.275195 -0.111788   \n",
       "1       1364400000020  1.048767  -8.853226  -1.225831  0.801150  1.128879   \n",
       "2       1364400000040  0.939804  -9.507003  -2.043052  0.807258  1.709201   \n",
       "3       1364400000060  0.640156  -9.833891  -2.152015  0.602008  2.062892   \n",
       "4       1364400000080  0.027241  -9.248216  -1.321174  0.629802  2.191174   \n",
       "...               ...       ...        ...        ...       ...       ...   \n",
       "161953  1364300139920 -2.601486  -4.426613  -2.369940  0.816727 -1.472491   \n",
       "161954  1364300139940 -3.064578  -7.041720  -5.992953  1.326188 -1.075123   \n",
       "161955  1364300139960 -4.903325 -15.363752 -14.900661  0.638049 -0.222966   \n",
       "161956  1364300139980 -4.290410 -17.624730 -11.699879 -0.365603 -0.474948   \n",
       "161957  1364300140000 -5.924851 -11.863323  -7.790839 -0.289245 -1.260826   \n",
       "\n",
       "              Gz         Mx         My    Mz Activity_Label  \n",
       "0       0.019242 -19.680000  29.640000 -6.60     Downstairs  \n",
       "1       0.011912 -19.619999  29.400000 -6.72     Downstairs  \n",
       "2      -0.032376 -19.680000  29.340000 -6.96     Downstairs  \n",
       "3       0.003665 -19.859999  29.220000 -7.14     Downstairs  \n",
       "4       0.159741 -19.680000  29.039999 -7.98     Downstairs  \n",
       "...          ...        ...        ...   ...            ...  \n",
       "161953  0.100182   9.059999  35.940000  0.84        Walking  \n",
       "161954  0.084299   9.059999  36.180000  1.02        Walking  \n",
       "161955  0.208610   9.120000  36.180000  1.08        Walking  \n",
       "161956  0.528093   9.240000  36.360000  0.96        Walking  \n",
       "161957  0.262977   9.300000  36.480000  1.02        Walking  \n",
       "\n",
       "[161958 rows x 11 columns]"
      ]
     },
     "execution_count": 133,
     "metadata": {},
     "output_type": "execute_result"
    }
   ],
   "source": [
    "imported_data"
   ]
  },
  {
   "cell_type": "code",
   "execution_count": null,
   "id": "45b5d815",
   "metadata": {},
   "outputs": [],
   "source": []
  },
  {
   "cell_type": "code",
   "execution_count": 134,
   "id": "adb02b43",
   "metadata": {},
   "outputs": [],
   "source": [
    "from sklearn import preprocessing\n",
    "from sklearn.metrics import accuracy_score\n",
    "\n",
    "# encoded_data = imported_data\n",
    "# le = preprocessing.LabelEncoder()\n",
    "# le.fit(imported_data.Activity_Label)\n",
    "# encoded_data['Activity_Label'] = le.transform(imported_data.Activity_Label)\n",
    "# re process le.inverse_transform(df['categorical_label'])"
   ]
  },
  {
   "cell_type": "code",
   "execution_count": 143,
   "id": "2680328e",
   "metadata": {},
   "outputs": [],
   "source": [
    "from sklearn.model_selection import train_test_split\n",
    "X_train, X_test, y_train, y_test = train_test_split(imported_data[['Ax', 'Ay', 'Az', 'Gx' ,'Gy', 'Gz']], imported_data['Activity_Label'], test_size=0.3, random_state=0)"
   ]
  },
  {
   "cell_type": "code",
   "execution_count": 144,
   "id": "b1fea1cc",
   "metadata": {},
   "outputs": [
    {
     "data": {
      "text/plain": [
       "0.6671400345764387"
      ]
     },
     "execution_count": 144,
     "metadata": {},
     "output_type": "execute_result"
    }
   ],
   "source": [
    "from sklearn.naive_bayes import GaussianNB\n",
    "gnb = GaussianNB()\n",
    "model = gnb.fit(X_train, y_train)\n",
    "y_pred = model.predict(X_test)\n",
    "accuracy_score(y_test, y_pred)"
   ]
  },
  {
   "cell_type": "code",
   "execution_count": 152,
   "id": "2365ccf1",
   "metadata": {},
   "outputs": [
    {
     "data": {
      "text/plain": [
       "0.8411747756647732"
      ]
     },
     "execution_count": 152,
     "metadata": {},
     "output_type": "execute_result"
    }
   ],
   "source": [
    "from sklearn import tree\n",
    "decisionTree = tree.DecisionTreeClassifier(max_depth=20)\n",
    "decisionTree = decisionTree.fit(X_train, y_train,)\n",
    "y_pred = decisionTree.predict(X_test)\n",
    "accuracy_score(y_test, y_pred)"
   ]
  },
  {
   "cell_type": "code",
   "execution_count": 138,
   "id": "68f8ad5f",
   "metadata": {},
   "outputs": [],
   "source": [
    "#tree.export_text(decisionTree)\n",
    "from IPython.display import display\n",
    "import graphviz\n",
    "from sklearn.tree import DecisionTreeRegressor, DecisionTreeClassifier,export_graphviz\n",
    "\n",
    "#display(graphviz.Source(export_graphviz(decisionTree)))"
   ]
  },
  {
   "cell_type": "code",
   "execution_count": 139,
   "id": "32b4d7d3",
   "metadata": {},
   "outputs": [
    {
     "data": {
      "text/plain": [
       "array(['Downstairs', 'Running', 'Sitting', 'Standing', 'Upstairs',\n",
       "       'Walking'], dtype=object)"
      ]
     },
     "execution_count": 139,
     "metadata": {},
     "output_type": "execute_result"
    }
   ],
   "source": [
    "imported_data['Activity_Label'].unique()"
   ]
  },
  {
   "cell_type": "code",
   "execution_count": 153,
   "id": "3a4c4260",
   "metadata": {},
   "outputs": [
    {
     "data": {
      "text/plain": [
       "['decision_tree.pkl']"
      ]
     },
     "execution_count": 153,
     "metadata": {},
     "output_type": "execute_result"
    }
   ],
   "source": [
    "import joblib\n",
    "joblib.dump(decisionTree, 'decision_tree.pkl', compress=9)"
   ]
  },
  {
   "cell_type": "code",
   "execution_count": 141,
   "id": "34a6e784",
   "metadata": {},
   "outputs": [
    {
     "name": "stderr",
     "output_type": "stream",
     "text": [
      "/Users/larsnolden/opt/anaconda3/envs/activity_classification/lib/python3.10/site-packages/sklearn/base.py:450: UserWarning: X does not have valid feature names, but DecisionTreeClassifier was fitted with feature names\n",
      "  warnings.warn(\n"
     ]
    },
    {
     "data": {
      "text/plain": [
       "array(['Walking'], dtype=object)"
      ]
     },
     "execution_count": 141,
     "metadata": {},
     "output_type": "execute_result"
    }
   ],
   "source": [
    "decisionTree.predict(X_test.iloc[[1]].values)"
   ]
  },
  {
   "cell_type": "code",
   "execution_count": 142,
   "id": "2950a936",
   "metadata": {},
   "outputs": [
    {
     "data": {
      "text/plain": [
       "array([[-4.6445384, -7.0553403, -4.576437 ,  1.3020593, -1.1472049,\n",
       "         0.2733622, 21.66     , 18.359999 , 24.66     ]])"
      ]
     },
     "execution_count": 142,
     "metadata": {},
     "output_type": "execute_result"
    }
   ],
   "source": [
    "X_test.iloc[[1]].values"
   ]
  },
  {
   "cell_type": "code",
   "execution_count": 156,
   "id": "ef427cfe",
   "metadata": {},
   "outputs": [
    {
     "data": {
      "text/html": [
       "<div>\n",
       "<style scoped>\n",
       "    .dataframe tbody tr th:only-of-type {\n",
       "        vertical-align: middle;\n",
       "    }\n",
       "\n",
       "    .dataframe tbody tr th {\n",
       "        vertical-align: top;\n",
       "    }\n",
       "\n",
       "    .dataframe thead th {\n",
       "        text-align: right;\n",
       "    }\n",
       "</style>\n",
       "<table border=\"1\" class=\"dataframe\">\n",
       "  <thead>\n",
       "    <tr style=\"text-align: right;\">\n",
       "      <th></th>\n",
       "      <th>Time_Stamp</th>\n",
       "      <th>Ax</th>\n",
       "      <th>Ay</th>\n",
       "      <th>Az</th>\n",
       "      <th>Gx</th>\n",
       "      <th>Gy</th>\n",
       "      <th>Gz</th>\n",
       "      <th>Mx</th>\n",
       "      <th>My</th>\n",
       "      <th>Mz</th>\n",
       "      <th>Activity_Label</th>\n",
       "    </tr>\n",
       "  </thead>\n",
       "  <tbody>\n",
       "    <tr>\n",
       "      <th>0</th>\n",
       "      <td>1364400000000</td>\n",
       "      <td>0.231546</td>\n",
       "      <td>-9.329938</td>\n",
       "      <td>-3.023717</td>\n",
       "      <td>0.275195</td>\n",
       "      <td>-0.111788</td>\n",
       "      <td>0.019242</td>\n",
       "      <td>-19.680000</td>\n",
       "      <td>29.64</td>\n",
       "      <td>-6.60</td>\n",
       "      <td>Downstairs</td>\n",
       "    </tr>\n",
       "    <tr>\n",
       "      <th>1</th>\n",
       "      <td>1364400000020</td>\n",
       "      <td>1.048767</td>\n",
       "      <td>-8.853226</td>\n",
       "      <td>-1.225831</td>\n",
       "      <td>0.801150</td>\n",
       "      <td>1.128879</td>\n",
       "      <td>0.011912</td>\n",
       "      <td>-19.619999</td>\n",
       "      <td>29.40</td>\n",
       "      <td>-6.72</td>\n",
       "      <td>Downstairs</td>\n",
       "    </tr>\n",
       "    <tr>\n",
       "      <th>2</th>\n",
       "      <td>1364400000040</td>\n",
       "      <td>0.939804</td>\n",
       "      <td>-9.507003</td>\n",
       "      <td>-2.043052</td>\n",
       "      <td>0.807258</td>\n",
       "      <td>1.709201</td>\n",
       "      <td>-0.032376</td>\n",
       "      <td>-19.680000</td>\n",
       "      <td>29.34</td>\n",
       "      <td>-6.96</td>\n",
       "      <td>Downstairs</td>\n",
       "    </tr>\n",
       "    <tr>\n",
       "      <th>3</th>\n",
       "      <td>1364400000060</td>\n",
       "      <td>0.640156</td>\n",
       "      <td>-9.833891</td>\n",
       "      <td>-2.152015</td>\n",
       "      <td>0.602008</td>\n",
       "      <td>2.062892</td>\n",
       "      <td>0.003665</td>\n",
       "      <td>-19.859999</td>\n",
       "      <td>29.22</td>\n",
       "      <td>-7.14</td>\n",
       "      <td>Downstairs</td>\n",
       "    </tr>\n",
       "  </tbody>\n",
       "</table>\n",
       "</div>"
      ],
      "text/plain": [
       "      Time_Stamp        Ax        Ay        Az        Gx        Gy        Gz  \\\n",
       "0  1364400000000  0.231546 -9.329938 -3.023717  0.275195 -0.111788  0.019242   \n",
       "1  1364400000020  1.048767 -8.853226 -1.225831  0.801150  1.128879  0.011912   \n",
       "2  1364400000040  0.939804 -9.507003 -2.043052  0.807258  1.709201 -0.032376   \n",
       "3  1364400000060  0.640156 -9.833891 -2.152015  0.602008  2.062892  0.003665   \n",
       "\n",
       "          Mx     My    Mz Activity_Label  \n",
       "0 -19.680000  29.64 -6.60     Downstairs  \n",
       "1 -19.619999  29.40 -6.72     Downstairs  \n",
       "2 -19.680000  29.34 -6.96     Downstairs  \n",
       "3 -19.859999  29.22 -7.14     Downstairs  "
      ]
     },
     "execution_count": 156,
     "metadata": {},
     "output_type": "execute_result"
    }
   ],
   "source": [
    "imported_data.head(4)"
   ]
  },
  {
   "cell_type": "code",
   "execution_count": null,
   "id": "54fd3489",
   "metadata": {},
   "outputs": [],
   "source": []
  }
 ],
 "metadata": {
  "kernelspec": {
   "display_name": "Python 3 (ipykernel)",
   "language": "python",
   "name": "python3"
  },
  "language_info": {
   "codemirror_mode": {
    "name": "ipython",
    "version": 3
   },
   "file_extension": ".py",
   "mimetype": "text/x-python",
   "name": "python",
   "nbconvert_exporter": "python",
   "pygments_lexer": "ipython3",
   "version": "3.10.4"
  }
 },
 "nbformat": 4,
 "nbformat_minor": 5
}
