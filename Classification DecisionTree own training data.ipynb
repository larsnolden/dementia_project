{
 "cells": [
  {
   "cell_type": "code",
   "execution_count": 86,
   "id": "335648e7",
   "metadata": {},
   "outputs": [],
   "source": [
    "import pandas as pd\n",
    "import os\n",
    "from sklearn.model_selection import train_test_split\n",
    "from sklearn import tree\n",
    "from joblib import dump\n",
    "from sklearn.metrics import accuracy_score"
   ]
  },
  {
   "cell_type": "code",
   "execution_count": 87,
   "id": "4ef85472",
   "metadata": {},
   "outputs": [],
   "source": [
    "START_PATH = '/Users/larsnolden/Projects/activity_classification/training_data'"
   ]
  },
  {
   "cell_type": "code",
   "execution_count": 88,
   "id": "cccad8a4",
   "metadata": {},
   "outputs": [],
   "source": [
    "total_training_data = pd.DataFrame(columns=['time', 'seconds_elapsed', 'Ax', 'Ay', 'Az', 'Gx' ,'Gy', 'Gz', 'Activity'])"
   ]
  },
  {
   "cell_type": "code",
   "execution_count": 89,
   "id": "375ba830",
   "metadata": {},
   "outputs": [],
   "source": [
    "for filename in os.listdir(START_PATH):\n",
    "    if(not filename.startswith('.')):\n",
    "        file_path = START_PATH+'/'+filename\n",
    "        df = pd.read_csv(file_path)\n",
    "        df = df.sort_values(by=['time'])\n",
    "        recording_time = df['seconds_elapsed'].max()\n",
    "        df = df[(df['seconds_elapsed'] > 5) & (recording_time - df['seconds_elapsed'] > 5)]\n",
    "        total_training_data = pd.concat([total_training_data, df], ignore_index=True)"
   ]
  },
  {
   "cell_type": "code",
   "execution_count": 90,
   "id": "263e66cb",
   "metadata": {},
   "outputs": [
    {
     "data": {
      "text/html": [
       "<div>\n",
       "<style scoped>\n",
       "    .dataframe tbody tr th:only-of-type {\n",
       "        vertical-align: middle;\n",
       "    }\n",
       "\n",
       "    .dataframe tbody tr th {\n",
       "        vertical-align: top;\n",
       "    }\n",
       "\n",
       "    .dataframe thead th {\n",
       "        text-align: right;\n",
       "    }\n",
       "</style>\n",
       "<table border=\"1\" class=\"dataframe\">\n",
       "  <thead>\n",
       "    <tr style=\"text-align: right;\">\n",
       "      <th></th>\n",
       "      <th>time</th>\n",
       "      <th>seconds_elapsed</th>\n",
       "      <th>Ax</th>\n",
       "      <th>Ay</th>\n",
       "      <th>Az</th>\n",
       "      <th>Gx</th>\n",
       "      <th>Gy</th>\n",
       "      <th>Gz</th>\n",
       "      <th>Activity</th>\n",
       "      <th>Unnamed: 0</th>\n",
       "    </tr>\n",
       "  </thead>\n",
       "  <tbody>\n",
       "    <tr>\n",
       "      <th>0</th>\n",
       "      <td>1.663930e+12</td>\n",
       "      <td>6.0</td>\n",
       "      <td>-1.256058</td>\n",
       "      <td>-0.925461</td>\n",
       "      <td>-10.237717</td>\n",
       "      <td>0.000778</td>\n",
       "      <td>0.003754</td>\n",
       "      <td>-0.009888</td>\n",
       "      <td>Sitting</td>\n",
       "      <td>59.0</td>\n",
       "    </tr>\n",
       "    <tr>\n",
       "      <th>1</th>\n",
       "      <td>1.663930e+12</td>\n",
       "      <td>6.0</td>\n",
       "      <td>-1.181839</td>\n",
       "      <td>-0.875183</td>\n",
       "      <td>-10.232925</td>\n",
       "      <td>-0.004547</td>\n",
       "      <td>0.009079</td>\n",
       "      <td>-0.002426</td>\n",
       "      <td>Sitting</td>\n",
       "      <td>60.0</td>\n",
       "    </tr>\n",
       "    <tr>\n",
       "      <th>2</th>\n",
       "      <td>1.663930e+12</td>\n",
       "      <td>6.0</td>\n",
       "      <td>-1.107620</td>\n",
       "      <td>-0.786591</td>\n",
       "      <td>-10.225754</td>\n",
       "      <td>-0.002426</td>\n",
       "      <td>0.002686</td>\n",
       "      <td>0.001831</td>\n",
       "      <td>Sitting</td>\n",
       "      <td>61.0</td>\n",
       "    </tr>\n",
       "    <tr>\n",
       "      <th>3</th>\n",
       "      <td>1.663930e+12</td>\n",
       "      <td>6.0</td>\n",
       "      <td>-1.186630</td>\n",
       "      <td>-0.824905</td>\n",
       "      <td>-10.211380</td>\n",
       "      <td>0.005035</td>\n",
       "      <td>-0.006897</td>\n",
       "      <td>-0.007751</td>\n",
       "      <td>Sitting</td>\n",
       "      <td>62.0</td>\n",
       "    </tr>\n",
       "    <tr>\n",
       "      <th>4</th>\n",
       "      <td>1.663930e+12</td>\n",
       "      <td>6.0</td>\n",
       "      <td>-1.205780</td>\n",
       "      <td>-0.887146</td>\n",
       "      <td>-10.197021</td>\n",
       "      <td>0.000778</td>\n",
       "      <td>0.000000</td>\n",
       "      <td>0.000000</td>\n",
       "      <td>Sitting</td>\n",
       "      <td>63.0</td>\n",
       "    </tr>\n",
       "    <tr>\n",
       "      <th>...</th>\n",
       "      <td>...</td>\n",
       "      <td>...</td>\n",
       "      <td>...</td>\n",
       "      <td>...</td>\n",
       "      <td>...</td>\n",
       "      <td>...</td>\n",
       "      <td>...</td>\n",
       "      <td>...</td>\n",
       "      <td>...</td>\n",
       "      <td>...</td>\n",
       "    </tr>\n",
       "    <tr>\n",
       "      <th>5108</th>\n",
       "      <td>1.663930e+12</td>\n",
       "      <td>11.0</td>\n",
       "      <td>-2.529770</td>\n",
       "      <td>-12.532547</td>\n",
       "      <td>-3.079056</td>\n",
       "      <td>1.924744</td>\n",
       "      <td>0.855087</td>\n",
       "      <td>0.137115</td>\n",
       "      <td>Upstairs</td>\n",
       "      <td>113.0</td>\n",
       "    </tr>\n",
       "    <tr>\n",
       "      <th>5109</th>\n",
       "      <td>1.663930e+12</td>\n",
       "      <td>11.0</td>\n",
       "      <td>-1.591248</td>\n",
       "      <td>-8.974762</td>\n",
       "      <td>-1.951385</td>\n",
       "      <td>2.289078</td>\n",
       "      <td>1.130981</td>\n",
       "      <td>-0.127075</td>\n",
       "      <td>Upstairs</td>\n",
       "      <td>114.0</td>\n",
       "    </tr>\n",
       "    <tr>\n",
       "      <th>5110</th>\n",
       "      <td>1.663930e+12</td>\n",
       "      <td>11.0</td>\n",
       "      <td>1.849228</td>\n",
       "      <td>-8.371429</td>\n",
       "      <td>-0.821320</td>\n",
       "      <td>1.380402</td>\n",
       "      <td>0.574921</td>\n",
       "      <td>0.425797</td>\n",
       "      <td>Upstairs</td>\n",
       "      <td>115.0</td>\n",
       "    </tr>\n",
       "    <tr>\n",
       "      <th>5111</th>\n",
       "      <td>1.663930e+12</td>\n",
       "      <td>11.0</td>\n",
       "      <td>-2.055725</td>\n",
       "      <td>-10.131165</td>\n",
       "      <td>-2.059128</td>\n",
       "      <td>0.766815</td>\n",
       "      <td>0.127502</td>\n",
       "      <td>0.097702</td>\n",
       "      <td>Upstairs</td>\n",
       "      <td>116.0</td>\n",
       "    </tr>\n",
       "    <tr>\n",
       "      <th>5112</th>\n",
       "      <td>1.663930e+12</td>\n",
       "      <td>11.0</td>\n",
       "      <td>-1.457169</td>\n",
       "      <td>-11.333054</td>\n",
       "      <td>-1.486908</td>\n",
       "      <td>0.573990</td>\n",
       "      <td>0.557877</td>\n",
       "      <td>-0.041855</td>\n",
       "      <td>Upstairs</td>\n",
       "      <td>117.0</td>\n",
       "    </tr>\n",
       "  </tbody>\n",
       "</table>\n",
       "<p>5113 rows × 10 columns</p>\n",
       "</div>"
      ],
      "text/plain": [
       "              time  seconds_elapsed        Ax         Ay         Az        Gx  \\\n",
       "0     1.663930e+12              6.0 -1.256058  -0.925461 -10.237717  0.000778   \n",
       "1     1.663930e+12              6.0 -1.181839  -0.875183 -10.232925 -0.004547   \n",
       "2     1.663930e+12              6.0 -1.107620  -0.786591 -10.225754 -0.002426   \n",
       "3     1.663930e+12              6.0 -1.186630  -0.824905 -10.211380  0.005035   \n",
       "4     1.663930e+12              6.0 -1.205780  -0.887146 -10.197021  0.000778   \n",
       "...            ...              ...       ...        ...        ...       ...   \n",
       "5108  1.663930e+12             11.0 -2.529770 -12.532547  -3.079056  1.924744   \n",
       "5109  1.663930e+12             11.0 -1.591248  -8.974762  -1.951385  2.289078   \n",
       "5110  1.663930e+12             11.0  1.849228  -8.371429  -0.821320  1.380402   \n",
       "5111  1.663930e+12             11.0 -2.055725 -10.131165  -2.059128  0.766815   \n",
       "5112  1.663930e+12             11.0 -1.457169 -11.333054  -1.486908  0.573990   \n",
       "\n",
       "            Gy        Gz  Activity  Unnamed: 0  \n",
       "0     0.003754 -0.009888   Sitting        59.0  \n",
       "1     0.009079 -0.002426   Sitting        60.0  \n",
       "2     0.002686  0.001831   Sitting        61.0  \n",
       "3    -0.006897 -0.007751   Sitting        62.0  \n",
       "4     0.000000  0.000000   Sitting        63.0  \n",
       "...        ...       ...       ...         ...  \n",
       "5108  0.855087  0.137115  Upstairs       113.0  \n",
       "5109  1.130981 -0.127075  Upstairs       114.0  \n",
       "5110  0.574921  0.425797  Upstairs       115.0  \n",
       "5111  0.127502  0.097702  Upstairs       116.0  \n",
       "5112  0.557877 -0.041855  Upstairs       117.0  \n",
       "\n",
       "[5113 rows x 10 columns]"
      ]
     },
     "execution_count": 90,
     "metadata": {},
     "output_type": "execute_result"
    }
   ],
   "source": [
    "total_training_data"
   ]
  },
  {
   "cell_type": "code",
   "execution_count": 91,
   "id": "b69b9eb2",
   "metadata": {},
   "outputs": [],
   "source": [
    "X_train, X_test, y_train, y_test = train_test_split(total_training_data[['Ax', 'Ay', 'Az', 'Gx' ,'Gy', 'Gz']], total_training_data['Activity'], test_size=0.3, random_state=0)"
   ]
  },
  {
   "cell_type": "code",
   "execution_count": 92,
   "id": "503ae7d5",
   "metadata": {},
   "outputs": [
    {
     "data": {
      "text/plain": [
       "0.8683181225554107"
      ]
     },
     "execution_count": 92,
     "metadata": {},
     "output_type": "execute_result"
    }
   ],
   "source": [
    "decisionTree = tree.DecisionTreeClassifier(max_depth=20)\n",
    "decisionTree = decisionTree.fit(X_train, y_train,)\n",
    "y_pred = decisionTree.predict(X_test)\n",
    "accuracy_score(y_test, y_pred)"
   ]
  },
  {
   "cell_type": "code",
   "execution_count": 93,
   "id": "cff2a9f3",
   "metadata": {},
   "outputs": [
    {
     "data": {
      "text/plain": [
       "['decision_tree.pkl']"
      ]
     },
     "execution_count": 93,
     "metadata": {},
     "output_type": "execute_result"
    }
   ],
   "source": [
    "dump(decisionTree, 'decision_tree.pkl', compress=9)"
   ]
  },
  {
   "cell_type": "code",
   "execution_count": null,
   "id": "619067df",
   "metadata": {},
   "outputs": [],
   "source": []
  },
  {
   "cell_type": "code",
   "execution_count": null,
   "id": "9d05616c",
   "metadata": {},
   "outputs": [],
   "source": []
  }
 ],
 "metadata": {
  "kernelspec": {
   "display_name": "Python 3 (ipykernel)",
   "language": "python",
   "name": "python3"
  },
  "language_info": {
   "codemirror_mode": {
    "name": "ipython",
    "version": 3
   },
   "file_extension": ".py",
   "mimetype": "text/x-python",
   "name": "python",
   "nbconvert_exporter": "python",
   "pygments_lexer": "ipython3",
   "version": "3.10.4"
  }
 },
 "nbformat": 4,
 "nbformat_minor": 5
}
